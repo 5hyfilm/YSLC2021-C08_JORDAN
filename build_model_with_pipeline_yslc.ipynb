{
  "nbformat": 4,
  "nbformat_minor": 0,
  "metadata": {
    "colab": {
      "name": "build_model_with_pipeline_yslc.ipynb",
      "provenance": [],
      "collapsed_sections": [],
      "include_colab_link": true
    },
    "kernelspec": {
      "name": "python3",
      "display_name": "Python 3"
    },
    "language_info": {
      "name": "python"
    }
  },
  "cells": [
    {
      "cell_type": "markdown",
      "metadata": {
        "id": "view-in-github",
        "colab_type": "text"
      },
      "source": [
        "<a href=\"https://colab.research.google.com/github/5hyfilm/yslc2021-c08-jordan/blob/main/build_model_with_pipeline_yslc.ipynb\" target=\"_parent\"><img src=\"https://colab.research.google.com/assets/colab-badge.svg\" alt=\"Open In Colab\"/></a>"
      ]
    },
    {
      "cell_type": "markdown",
      "metadata": {
        "id": "w4F2GUMpv0Q2"
      },
      "source": [
        "# Fake News Classification by JORDAN Team\n",
        "\n"
      ]
    },
    {
      "cell_type": "markdown",
      "metadata": {
        "id": "pma3ncHC7v0n"
      },
      "source": [
        "Young Safe Internet Leader Camp (YSLC) Version 3.0 2021"
      ]
    },
    {
      "cell_type": "markdown",
      "metadata": {
        "id": "Tfmp7n7hkFuG"
      },
      "source": [
        "# Install & Import Libraries"
      ]
    },
    {
      "cell_type": "markdown",
      "metadata": {
        "id": "itveTC-Om7ay"
      },
      "source": [
        "## Install"
      ]
    },
    {
      "cell_type": "code",
      "metadata": {
        "colab": {
          "base_uri": "https://localhost:8080/"
        },
        "id": "JxYsvTl-lvCX",
        "outputId": "1f56b2c7-e0c0-4ace-cef9-a1bb02444f98"
      },
      "source": [
        "!pip install pythainlp\n",
        "!pip install emoji"
      ],
      "execution_count": null,
      "outputs": [
        {
          "output_type": "stream",
          "text": [
            "Collecting pythainlp\n",
            "\u001b[?25l  Downloading https://files.pythonhosted.org/packages/6e/e7/837dd9ab52fac889af830dc094a1598251f70004a2f1707ab0ff8dc0f63a/pythainlp-2.3.1-py3-none-any.whl (11.0MB)\n",
            "\u001b[K     |████████████████████████████████| 11.0MB 3.7MB/s \n",
            "\u001b[?25hCollecting tinydb>=3.0\n",
            "  Downloading https://files.pythonhosted.org/packages/ef/b7/3efc36f9720fd94e2ce398691d1df33486a7aceb5048563bd77c2ad5d584/tinydb-4.5.0-py3-none-any.whl\n",
            "Collecting python-crfsuite>=0.9.6\n",
            "\u001b[?25l  Downloading https://files.pythonhosted.org/packages/79/47/58f16c46506139f17de4630dbcfb877ce41a6355a1bbf3c443edb9708429/python_crfsuite-0.9.7-cp37-cp37m-manylinux1_x86_64.whl (743kB)\n",
            "\u001b[K     |████████████████████████████████| 747kB 33.5MB/s \n",
            "\u001b[?25hRequirement already satisfied: requests>=2.22.0 in /usr/local/lib/python3.7/dist-packages (from pythainlp) (2.23.0)\n",
            "Requirement already satisfied: chardet<4,>=3.0.2 in /usr/local/lib/python3.7/dist-packages (from requests>=2.22.0->pythainlp) (3.0.4)\n",
            "Requirement already satisfied: idna<3,>=2.5 in /usr/local/lib/python3.7/dist-packages (from requests>=2.22.0->pythainlp) (2.10)\n",
            "Requirement already satisfied: certifi>=2017.4.17 in /usr/local/lib/python3.7/dist-packages (from requests>=2.22.0->pythainlp) (2021.5.30)\n",
            "Requirement already satisfied: urllib3!=1.25.0,!=1.25.1,<1.26,>=1.21.1 in /usr/local/lib/python3.7/dist-packages (from requests>=2.22.0->pythainlp) (1.24.3)\n",
            "Installing collected packages: tinydb, python-crfsuite, pythainlp\n",
            "Successfully installed pythainlp-2.3.1 python-crfsuite-0.9.7 tinydb-4.5.0\n",
            "Collecting emoji\n",
            "\u001b[?25l  Downloading https://files.pythonhosted.org/packages/24/fa/b3368f41b95a286f8d300e323449ab4e86b85334c2e0b477e94422b8ed0f/emoji-1.2.0-py3-none-any.whl (131kB)\n",
            "\u001b[K     |████████████████████████████████| 133kB 3.0MB/s \n",
            "\u001b[?25hInstalling collected packages: emoji\n",
            "Successfully installed emoji-1.2.0\n"
          ],
          "name": "stdout"
        }
      ]
    },
    {
      "cell_type": "markdown",
      "metadata": {
        "id": "pzFx2dAwm9Ld"
      },
      "source": [
        "## Import"
      ]
    },
    {
      "cell_type": "code",
      "metadata": {
        "id": "87C6wUUkLvQQ"
      },
      "source": [
        "import pandas as pd\n",
        "import pythainlp\n",
        "import pythainlp.util\n",
        "from pythainlp import sent_tokenize\n",
        "from pythainlp import word_tokenize\n",
        "from pythainlp.ulmfit import process_thai\n",
        "import string\n",
        "from sklearn.model_selection import train_test_split\n",
        "from sklearn.feature_extraction.text import TfidfVectorizer\n",
        "from sklearn.pipeline import Pipeline\n",
        "from sklearn.linear_model import PassiveAggressiveClassifier\n",
        "from sklearn.metrics import accuracy_score, confusion_matrix, classification_report\n",
        "import numpy as np\n",
        "from matplotlib import pyplot as plt\n",
        "import itertools"
      ],
      "execution_count": null,
      "outputs": []
    },
    {
      "cell_type": "code",
      "metadata": {
        "id": "KER2cgg0l3ox"
      },
      "source": [
        "import warnings\n",
        "warnings.filterwarnings('ignore')"
      ],
      "execution_count": null,
      "outputs": []
    },
    {
      "cell_type": "markdown",
      "metadata": {
        "id": "1TQ1KPZekLBs"
      },
      "source": [
        "# Preview Data"
      ]
    },
    {
      "cell_type": "code",
      "metadata": {
        "id": "3Se9qX_FL8jB"
      },
      "source": [
        "df = pd.read_csv('/content/YSLC_data.csv')"
      ],
      "execution_count": null,
      "outputs": []
    },
    {
      "cell_type": "code",
      "metadata": {
        "colab": {
          "base_uri": "https://localhost:8080/"
        },
        "id": "8TMlPgsAtzv1",
        "outputId": "e109f659-5814-4e0f-9819-a3ff82ac1ef5"
      },
      "source": [
        "df.shape"
      ],
      "execution_count": null,
      "outputs": [
        {
          "output_type": "execute_result",
          "data": {
            "text/plain": [
              "(1700, 6)"
            ]
          },
          "metadata": {
            "tags": []
          },
          "execution_count": 5
        }
      ]
    },
    {
      "cell_type": "code",
      "metadata": {
        "colab": {
          "base_uri": "https://localhost:8080/",
          "height": 289
        },
        "id": "h8yhw3spR8AB",
        "outputId": "4036772d-68b1-4675-a3ab-04e2d01ccb88"
      },
      "source": [
        "df.head()"
      ],
      "execution_count": null,
      "outputs": [
        {
          "output_type": "execute_result",
          "data": {
            "text/html": [
              "<div>\n",
              "<style scoped>\n",
              "    .dataframe tbody tr th:only-of-type {\n",
              "        vertical-align: middle;\n",
              "    }\n",
              "\n",
              "    .dataframe tbody tr th {\n",
              "        vertical-align: top;\n",
              "    }\n",
              "\n",
              "    .dataframe thead th {\n",
              "        text-align: right;\n",
              "    }\n",
              "</style>\n",
              "<table border=\"1\" class=\"dataframe\">\n",
              "  <thead>\n",
              "    <tr style=\"text-align: right;\">\n",
              "      <th></th>\n",
              "      <th>id</th>\n",
              "      <th>title</th>\n",
              "      <th>text</th>\n",
              "      <th>author</th>\n",
              "      <th>url</th>\n",
              "      <th>label</th>\n",
              "    </tr>\n",
              "  </thead>\n",
              "  <tbody>\n",
              "    <tr>\n",
              "      <th>0</th>\n",
              "      <td>1</td>\n",
              "      <td>อย่าหลงเชื่อ ข่าวปลอม ยาพาราเซตามอลปนเปื้อนเชื...</td>\n",
              "      <td>เป็นกระแสดังมาก ถึงเรื่องการห้ามกินยาพาราเซตาม...</td>\n",
              "      <td>ข่าวประชาสัมพันธ์ กองพัฒนาศักยภาพผู้บริโภค</td>\n",
              "      <td>https://www.antifakenewscenter.com/ข่าวปลอม-ยา...</td>\n",
              "      <td>0</td>\n",
              "    </tr>\n",
              "    <tr>\n",
              "      <th>1</th>\n",
              "      <td>2</td>\n",
              "      <td>ข่าวปลอม “บิ๊กตู่” เรียกเก็บเงินภาษี 7 % “ก้าว...</td>\n",
              "      <td>หลังจากที่มีการนำเสนอข่าวรัฐบาลประชุมเรียกเก็บ...</td>\n",
              "      <td>http://www.mgronline.com/</td>\n",
              "      <td>https://www.antifakenewscenter.com/ข่าวปลอม-ก้...</td>\n",
              "      <td>0</td>\n",
              "    </tr>\n",
              "    <tr>\n",
              "      <th>2</th>\n",
              "      <td>3</td>\n",
              "      <td>เว็บคลิกเบทผุดข่าวปลอม เสี่ยตัน ไม่ช่วย พี่ตูน...</td>\n",
              "      <td>ทำไมเรายังแชร์ข่าวปลอม! ชาวเน็ตด่าขรม เว็บคลิก...</td>\n",
              "      <td>ไทยรัฐ ออนไลน์</td>\n",
              "      <td>https://www.antifakenewscenter.com/เว็บคลิกเบท...</td>\n",
              "      <td>0</td>\n",
              "    </tr>\n",
              "    <tr>\n",
              "      <th>3</th>\n",
              "      <td>4</td>\n",
              "      <td>สธ.เตือน “อย่าเชื่อ-อย่าแชร์” ข่าวปลอมอ้างมีคน...</td>\n",
              "      <td>กระทรวงสาธารณสุขแจ้งเตือนประชาชน “อย่าเชื่อ-อย...</td>\n",
              "      <td>http://www.posttoday.com/</td>\n",
              "      <td>https://www.antifakenewscenter.com/ข่าวปลอม-คน...</td>\n",
              "      <td>0</td>\n",
              "    </tr>\n",
              "    <tr>\n",
              "      <th>4</th>\n",
              "      <td>5</td>\n",
              "      <td>“ไอซ์ ปรีชญา” เดือด เว็บปลอมกุข่าว โดนรวบปาร์ต...</td>\n",
              "      <td>“ไอซ์ ปรีชญา พงษ์ธนานิกร” เดือด เว็ปปลอมกุข่าว...</td>\n",
              "      <td>http://www.brighttv.co.th/</td>\n",
              "      <td>https://www.antifakenewscenter.com/ไอซ์ปรีชญา-...</td>\n",
              "      <td>0</td>\n",
              "    </tr>\n",
              "  </tbody>\n",
              "</table>\n",
              "</div>"
            ],
            "text/plain": [
              "   id  ... label\n",
              "0   1  ...     0\n",
              "1   2  ...     0\n",
              "2   3  ...     0\n",
              "3   4  ...     0\n",
              "4   5  ...     0\n",
              "\n",
              "[5 rows x 6 columns]"
            ]
          },
          "metadata": {
            "tags": []
          },
          "execution_count": 6
        }
      ]
    },
    {
      "cell_type": "markdown",
      "metadata": {
        "id": "_LJ1sqQ17VDx"
      },
      "source": [
        "### Prevalence"
      ]
    },
    {
      "cell_type": "code",
      "metadata": {
        "colab": {
          "base_uri": "https://localhost:8080/"
        },
        "id": "WGtenO_V6cQX",
        "outputId": "79d7acc3-d268-4365-f792-a4ca87662d55"
      },
      "source": [
        "print(df[\"label\"].value_counts() / df.shape[0])"
      ],
      "execution_count": null,
      "outputs": [
        {
          "output_type": "stream",
          "text": [
            "0    0.840588\n",
            "1    0.159412\n",
            "Name: label, dtype: float64\n"
          ],
          "name": "stdout"
        }
      ]
    },
    {
      "cell_type": "markdown",
      "metadata": {
        "id": "Zy67tgXr7ZKL"
      },
      "source": [
        "# Preprocessing"
      ]
    },
    {
      "cell_type": "markdown",
      "metadata": {
        "id": "KuVrM7ivj4Xj"
      },
      "source": [
        "## Clean Text by Remove Punctuation"
      ]
    },
    {
      "cell_type": "code",
      "metadata": {
        "colab": {
          "base_uri": "https://localhost:8080/",
          "height": 35
        },
        "id": "Vg3RhXFCgTNM",
        "outputId": "f678c161-87d4-4d06-9b5b-2392f0bd7f99"
      },
      "source": [
        "string.punctuation"
      ],
      "execution_count": null,
      "outputs": [
        {
          "output_type": "execute_result",
          "data": {
            "application/vnd.google.colaboratory.intrinsic+json": {
              "type": "string"
            },
            "text/plain": [
              "'!\"#$%&\\'()*+,-./:;<=>?@[\\\\]^_`{|}~'"
            ]
          },
          "metadata": {
            "tags": []
          },
          "execution_count": 8
        }
      ]
    },
    {
      "cell_type": "code",
      "metadata": {
        "id": "xAeqlWiPgpci"
      },
      "source": [
        "def remove_punctuation(txt):\n",
        "  txt_nopunct = ''.join([c for c in str(txt) if c not in string.punctuation])\n",
        "  return txt_nopunct"
      ],
      "execution_count": null,
      "outputs": []
    },
    {
      "cell_type": "code",
      "metadata": {
        "id": "5zLFUC9_h-qh"
      },
      "source": [
        "df['text_clean'] = df['text'].apply(lambda x: remove_punctuation(x))"
      ],
      "execution_count": null,
      "outputs": []
    },
    {
      "cell_type": "code",
      "metadata": {
        "colab": {
          "base_uri": "https://localhost:8080/",
          "height": 289
        },
        "id": "BzhD9w35iNqF",
        "outputId": "f27ec0ef-c61f-442f-914b-c419729c115d"
      },
      "source": [
        "df.head()"
      ],
      "execution_count": null,
      "outputs": [
        {
          "output_type": "execute_result",
          "data": {
            "text/html": [
              "<div>\n",
              "<style scoped>\n",
              "    .dataframe tbody tr th:only-of-type {\n",
              "        vertical-align: middle;\n",
              "    }\n",
              "\n",
              "    .dataframe tbody tr th {\n",
              "        vertical-align: top;\n",
              "    }\n",
              "\n",
              "    .dataframe thead th {\n",
              "        text-align: right;\n",
              "    }\n",
              "</style>\n",
              "<table border=\"1\" class=\"dataframe\">\n",
              "  <thead>\n",
              "    <tr style=\"text-align: right;\">\n",
              "      <th></th>\n",
              "      <th>id</th>\n",
              "      <th>title</th>\n",
              "      <th>text</th>\n",
              "      <th>author</th>\n",
              "      <th>url</th>\n",
              "      <th>label</th>\n",
              "      <th>text_clean</th>\n",
              "    </tr>\n",
              "  </thead>\n",
              "  <tbody>\n",
              "    <tr>\n",
              "      <th>0</th>\n",
              "      <td>1</td>\n",
              "      <td>อย่าหลงเชื่อ ข่าวปลอม ยาพาราเซตามอลปนเปื้อนเชื...</td>\n",
              "      <td>เป็นกระแสดังมาก ถึงเรื่องการห้ามกินยาพาราเซตาม...</td>\n",
              "      <td>ข่าวประชาสัมพันธ์ กองพัฒนาศักยภาพผู้บริโภค</td>\n",
              "      <td>https://www.antifakenewscenter.com/ข่าวปลอม-ยา...</td>\n",
              "      <td>0</td>\n",
              "      <td>เป็นกระแสดังมาก ถึงเรื่องการห้ามกินยาพาราเซตาม...</td>\n",
              "    </tr>\n",
              "    <tr>\n",
              "      <th>1</th>\n",
              "      <td>2</td>\n",
              "      <td>ข่าวปลอม “บิ๊กตู่” เรียกเก็บเงินภาษี 7 % “ก้าว...</td>\n",
              "      <td>หลังจากที่มีการนำเสนอข่าวรัฐบาลประชุมเรียกเก็บ...</td>\n",
              "      <td>http://www.mgronline.com/</td>\n",
              "      <td>https://www.antifakenewscenter.com/ข่าวปลอม-ก้...</td>\n",
              "      <td>0</td>\n",
              "      <td>หลังจากที่มีการนำเสนอข่าวรัฐบาลประชุมเรียกเก็บ...</td>\n",
              "    </tr>\n",
              "    <tr>\n",
              "      <th>2</th>\n",
              "      <td>3</td>\n",
              "      <td>เว็บคลิกเบทผุดข่าวปลอม เสี่ยตัน ไม่ช่วย พี่ตูน...</td>\n",
              "      <td>ทำไมเรายังแชร์ข่าวปลอม! ชาวเน็ตด่าขรม เว็บคลิก...</td>\n",
              "      <td>ไทยรัฐ ออนไลน์</td>\n",
              "      <td>https://www.antifakenewscenter.com/เว็บคลิกเบท...</td>\n",
              "      <td>0</td>\n",
              "      <td>ทำไมเรายังแชร์ข่าวปลอม ชาวเน็ตด่าขรม เว็บคลิกเ...</td>\n",
              "    </tr>\n",
              "    <tr>\n",
              "      <th>3</th>\n",
              "      <td>4</td>\n",
              "      <td>สธ.เตือน “อย่าเชื่อ-อย่าแชร์” ข่าวปลอมอ้างมีคน...</td>\n",
              "      <td>กระทรวงสาธารณสุขแจ้งเตือนประชาชน “อย่าเชื่อ-อย...</td>\n",
              "      <td>http://www.posttoday.com/</td>\n",
              "      <td>https://www.antifakenewscenter.com/ข่าวปลอม-คน...</td>\n",
              "      <td>0</td>\n",
              "      <td>กระทรวงสาธารณสุขแจ้งเตือนประชาชน “อย่าเชื่ออย่...</td>\n",
              "    </tr>\n",
              "    <tr>\n",
              "      <th>4</th>\n",
              "      <td>5</td>\n",
              "      <td>“ไอซ์ ปรีชญา” เดือด เว็บปลอมกุข่าว โดนรวบปาร์ต...</td>\n",
              "      <td>“ไอซ์ ปรีชญา พงษ์ธนานิกร” เดือด เว็ปปลอมกุข่าว...</td>\n",
              "      <td>http://www.brighttv.co.th/</td>\n",
              "      <td>https://www.antifakenewscenter.com/ไอซ์ปรีชญา-...</td>\n",
              "      <td>0</td>\n",
              "      <td>“ไอซ์ ปรีชญา พงษ์ธนานิกร” เดือด เว็ปปลอมกุข่าว...</td>\n",
              "    </tr>\n",
              "  </tbody>\n",
              "</table>\n",
              "</div>"
            ],
            "text/plain": [
              "   id  ...                                         text_clean\n",
              "0   1  ...  เป็นกระแสดังมาก ถึงเรื่องการห้ามกินยาพาราเซตาม...\n",
              "1   2  ...  หลังจากที่มีการนำเสนอข่าวรัฐบาลประชุมเรียกเก็บ...\n",
              "2   3  ...  ทำไมเรายังแชร์ข่าวปลอม ชาวเน็ตด่าขรม เว็บคลิกเ...\n",
              "3   4  ...  กระทรวงสาธารณสุขแจ้งเตือนประชาชน “อย่าเชื่ออย่...\n",
              "4   5  ...  “ไอซ์ ปรีชญา พงษ์ธนานิกร” เดือด เว็ปปลอมกุข่าว...\n",
              "\n",
              "[5 rows x 7 columns]"
            ]
          },
          "metadata": {
            "tags": []
          },
          "execution_count": 11
        }
      ]
    },
    {
      "cell_type": "markdown",
      "metadata": {
        "id": "2IPLnlw_j-Kl"
      },
      "source": [
        "## Tokenization"
      ]
    },
    {
      "cell_type": "code",
      "metadata": {
        "id": "RusO_j4oidYH"
      },
      "source": [
        "df[\"processed\"] = df.text_clean.map(lambda x: \"|\".join(process_thai(x)))\n",
        "df[\"wc\"] = df.processed.map(lambda x: len(x.split(\"|\")))\n",
        "df[\"uwc\"] = df.processed.map(lambda x: len(set(x.split(\"|\"))))\n",
        "\n",
        "# test_df[\"processed\"] = test_df.texts.map(lambda x: \"|\".join(process_thai(x)))\n",
        "# test_df[\"wc\"] = test_df.processed.map(lambda x: len(x.split(\"|\")))\n",
        "# test_df[\"uwc\"] = test_df.processed.map(lambda x: len(set(x.split(\"|\"))))"
      ],
      "execution_count": null,
      "outputs": []
    },
    {
      "cell_type": "code",
      "metadata": {
        "colab": {
          "base_uri": "https://localhost:8080/",
          "height": 408
        },
        "id": "CaBgm6W8jfJk",
        "outputId": "4fcf20fb-1de7-449e-e342-2f2f67cbfc6c"
      },
      "source": [
        "df.head()"
      ],
      "execution_count": null,
      "outputs": [
        {
          "output_type": "execute_result",
          "data": {
            "text/html": [
              "<div>\n",
              "<style scoped>\n",
              "    .dataframe tbody tr th:only-of-type {\n",
              "        vertical-align: middle;\n",
              "    }\n",
              "\n",
              "    .dataframe tbody tr th {\n",
              "        vertical-align: top;\n",
              "    }\n",
              "\n",
              "    .dataframe thead th {\n",
              "        text-align: right;\n",
              "    }\n",
              "</style>\n",
              "<table border=\"1\" class=\"dataframe\">\n",
              "  <thead>\n",
              "    <tr style=\"text-align: right;\">\n",
              "      <th></th>\n",
              "      <th>id</th>\n",
              "      <th>title</th>\n",
              "      <th>text</th>\n",
              "      <th>author</th>\n",
              "      <th>url</th>\n",
              "      <th>label</th>\n",
              "      <th>text_clean</th>\n",
              "      <th>processed</th>\n",
              "      <th>wc</th>\n",
              "      <th>uwc</th>\n",
              "    </tr>\n",
              "  </thead>\n",
              "  <tbody>\n",
              "    <tr>\n",
              "      <th>0</th>\n",
              "      <td>1</td>\n",
              "      <td>อย่าหลงเชื่อ ข่าวปลอม ยาพาราเซตามอลปนเปื้อนเชื...</td>\n",
              "      <td>เป็นกระแสดังมาก ถึงเรื่องการห้ามกินยาพาราเซตาม...</td>\n",
              "      <td>ข่าวประชาสัมพันธ์ กองพัฒนาศักยภาพผู้บริโภค</td>\n",
              "      <td>https://www.antifakenewscenter.com/ข่าวปลอม-ยา...</td>\n",
              "      <td>0</td>\n",
              "      <td>เป็นกระแสดังมาก ถึงเรื่องการห้ามกินยาพาราเซตาม...</td>\n",
              "      <td>เป็น|กระแส|ดัง|มาก|ถึง|เรื่อง|การ|ห้าม|กิน|ยา|...</td>\n",
              "      <td>200</td>\n",
              "      <td>115</td>\n",
              "    </tr>\n",
              "    <tr>\n",
              "      <th>1</th>\n",
              "      <td>2</td>\n",
              "      <td>ข่าวปลอม “บิ๊กตู่” เรียกเก็บเงินภาษี 7 % “ก้าว...</td>\n",
              "      <td>หลังจากที่มีการนำเสนอข่าวรัฐบาลประชุมเรียกเก็บ...</td>\n",
              "      <td>http://www.mgronline.com/</td>\n",
              "      <td>https://www.antifakenewscenter.com/ข่าวปลอม-ก้...</td>\n",
              "      <td>0</td>\n",
              "      <td>หลังจากที่มีการนำเสนอข่าวรัฐบาลประชุมเรียกเก็บ...</td>\n",
              "      <td>หลังจากที่|มี|การ|นำเสนอ|ข่าว|รัฐบาล|ประชุม|เร...</td>\n",
              "      <td>265</td>\n",
              "      <td>141</td>\n",
              "    </tr>\n",
              "    <tr>\n",
              "      <th>2</th>\n",
              "      <td>3</td>\n",
              "      <td>เว็บคลิกเบทผุดข่าวปลอม เสี่ยตัน ไม่ช่วย พี่ตูน...</td>\n",
              "      <td>ทำไมเรายังแชร์ข่าวปลอม! ชาวเน็ตด่าขรม เว็บคลิก...</td>\n",
              "      <td>ไทยรัฐ ออนไลน์</td>\n",
              "      <td>https://www.antifakenewscenter.com/เว็บคลิกเบท...</td>\n",
              "      <td>0</td>\n",
              "      <td>ทำไมเรายังแชร์ข่าวปลอม ชาวเน็ตด่าขรม เว็บคลิกเ...</td>\n",
              "      <td>ทำไม|เรา|ยัง|แชร์|ข่าว|ปลอม|ชาว|เน็ต|ด่า|ขรม|เ...</td>\n",
              "      <td>169</td>\n",
              "      <td>102</td>\n",
              "    </tr>\n",
              "    <tr>\n",
              "      <th>3</th>\n",
              "      <td>4</td>\n",
              "      <td>สธ.เตือน “อย่าเชื่อ-อย่าแชร์” ข่าวปลอมอ้างมีคน...</td>\n",
              "      <td>กระทรวงสาธารณสุขแจ้งเตือนประชาชน “อย่าเชื่อ-อย...</td>\n",
              "      <td>http://www.posttoday.com/</td>\n",
              "      <td>https://www.antifakenewscenter.com/ข่าวปลอม-คน...</td>\n",
              "      <td>0</td>\n",
              "      <td>กระทรวงสาธารณสุขแจ้งเตือนประชาชน “อย่าเชื่ออย่...</td>\n",
              "      <td>กระทรวงสาธารณสุข|แจ้ง|เตือน|ประชาชน|“|อย่า|เชื...</td>\n",
              "      <td>110</td>\n",
              "      <td>71</td>\n",
              "    </tr>\n",
              "    <tr>\n",
              "      <th>4</th>\n",
              "      <td>5</td>\n",
              "      <td>“ไอซ์ ปรีชญา” เดือด เว็บปลอมกุข่าว โดนรวบปาร์ต...</td>\n",
              "      <td>“ไอซ์ ปรีชญา พงษ์ธนานิกร” เดือด เว็ปปลอมกุข่าว...</td>\n",
              "      <td>http://www.brighttv.co.th/</td>\n",
              "      <td>https://www.antifakenewscenter.com/ไอซ์ปรีชญา-...</td>\n",
              "      <td>0</td>\n",
              "      <td>“ไอซ์ ปรีชญา พงษ์ธนานิกร” เดือด เว็ปปลอมกุข่าว...</td>\n",
              "      <td>“|ไอ|ซ์|ปรีชญา|พง|ษ์ธ|นา|นิกร|”|เดือด|เว็ป|ปลอ...</td>\n",
              "      <td>336</td>\n",
              "      <td>182</td>\n",
              "    </tr>\n",
              "  </tbody>\n",
              "</table>\n",
              "</div>"
            ],
            "text/plain": [
              "   id                                              title  ...   wc  uwc\n",
              "0   1  อย่าหลงเชื่อ ข่าวปลอม ยาพาราเซตามอลปนเปื้อนเชื...  ...  200  115\n",
              "1   2  ข่าวปลอม “บิ๊กตู่” เรียกเก็บเงินภาษี 7 % “ก้าว...  ...  265  141\n",
              "2   3  เว็บคลิกเบทผุดข่าวปลอม เสี่ยตัน ไม่ช่วย พี่ตูน...  ...  169  102\n",
              "3   4  สธ.เตือน “อย่าเชื่อ-อย่าแชร์” ข่าวปลอมอ้างมีคน...  ...  110   71\n",
              "4   5  “ไอซ์ ปรีชญา” เดือด เว็บปลอมกุข่าว โดนรวบปาร์ต...  ...  336  182\n",
              "\n",
              "[5 rows x 10 columns]"
            ]
          },
          "metadata": {
            "tags": []
          },
          "execution_count": 13
        }
      ]
    },
    {
      "cell_type": "markdown",
      "metadata": {
        "id": "vavX5SZXj0eP"
      },
      "source": [
        "## Split"
      ]
    },
    {
      "cell_type": "code",
      "metadata": {
        "id": "ACw6DiZ_SJot"
      },
      "source": [
        "x = df['text_clean']\n",
        "y = df['label']"
      ],
      "execution_count": null,
      "outputs": []
    },
    {
      "cell_type": "code",
      "metadata": {
        "id": "eil6PvRutbku"
      },
      "source": [
        "x_train, x_test, y_train, y_test = train_test_split(x, y, test_size=0.2,random_state=0)"
      ],
      "execution_count": null,
      "outputs": []
    },
    {
      "cell_type": "code",
      "metadata": {
        "colab": {
          "base_uri": "https://localhost:8080/"
        },
        "id": "ZtyQqlRY0BtG",
        "outputId": "b47560a9-9e10-43a7-bd2b-e4f9335f339b"
      },
      "source": [
        "x_train.shape"
      ],
      "execution_count": null,
      "outputs": [
        {
          "output_type": "execute_result",
          "data": {
            "text/plain": [
              "(1360,)"
            ]
          },
          "metadata": {
            "tags": []
          },
          "execution_count": 16
        }
      ]
    },
    {
      "cell_type": "markdown",
      "metadata": {
        "id": "6AkqlZZenyOH"
      },
      "source": [
        "### Features"
      ]
    },
    {
      "cell_type": "code",
      "metadata": {
        "id": "hFDWQIprtcqf"
      },
      "source": [
        "classifier = Pipeline([('tfidf', TfidfVectorizer(tokenizer=process_thai, ngram_range=(1,2), min_df=20, sublinear_tf=True)),\n",
        "                    ('pacmodel', PassiveAggressiveClassifier(max_iter=50))])"
      ],
      "execution_count": null,
      "outputs": []
    },
    {
      "cell_type": "code",
      "metadata": {
        "colab": {
          "base_uri": "https://localhost:8080/"
        },
        "id": "pE_gAOFDtkuC",
        "outputId": "a0438c76-6f20-44e9-88a9-3532acdd219a"
      },
      "source": [
        "classifier.fit(x_train, y_train)"
      ],
      "execution_count": null,
      "outputs": [
        {
          "output_type": "execute_result",
          "data": {
            "text/plain": [
              "Pipeline(memory=None,\n",
              "         steps=[('tfidf',\n",
              "                 TfidfVectorizer(analyzer='word', binary=False,\n",
              "                                 decode_error='strict',\n",
              "                                 dtype=<class 'numpy.float64'>,\n",
              "                                 encoding='utf-8', input='content',\n",
              "                                 lowercase=True, max_df=1.0, max_features=None,\n",
              "                                 min_df=20, ngram_range=(1, 2), norm='l2',\n",
              "                                 preprocessor=None, smooth_idf=True,\n",
              "                                 stop_words=None, strip_accents=None,\n",
              "                                 sublinear_tf=True,\n",
              "                                 token_pattern='...\n",
              "                                 tokenizer=<function process_thai at 0x7fd5bf33ac20>,\n",
              "                                 use_idf=True, vocabulary=None)),\n",
              "                ('pacmodel',\n",
              "                 PassiveAggressiveClassifier(C=1.0, average=False,\n",
              "                                             class_weight=None,\n",
              "                                             early_stopping=False,\n",
              "                                             fit_intercept=True, loss='hinge',\n",
              "                                             max_iter=50, n_iter_no_change=5,\n",
              "                                             n_jobs=None, random_state=None,\n",
              "                                             shuffle=True, tol=0.001,\n",
              "                                             validation_fraction=0.1, verbose=0,\n",
              "                                             warm_start=False))],\n",
              "         verbose=False)"
            ]
          },
          "metadata": {
            "tags": []
          },
          "execution_count": 18
        }
      ]
    },
    {
      "cell_type": "markdown",
      "metadata": {
        "id": "xCNnmv8zpYLg"
      },
      "source": [
        "# Evaluation"
      ]
    },
    {
      "cell_type": "markdown",
      "metadata": {
        "id": "MQBn-_5vC0Js"
      },
      "source": [
        "### Label\n",
        "*   0 = Fake News ข่าวปลอม\n",
        "*   1 = Real News ข่าวจริง\n",
        "\n"
      ]
    },
    {
      "cell_type": "code",
      "metadata": {
        "colab": {
          "base_uri": "https://localhost:8080/"
        },
        "id": "a5ZZeQd8tnYm",
        "outputId": "fff8e438-5c45-4285-8248-3d55bf5c5ba7"
      },
      "source": [
        "y_pred = classifier.predict(x_test)\n",
        "score = accuracy_score(y_test, y_pred)\n",
        "print(f'Accuracy: {round(score * 100, 2)}%')"
      ],
      "execution_count": null,
      "outputs": [
        {
          "output_type": "stream",
          "text": [
            "Accuracy: 98.82%\n"
          ],
          "name": "stdout"
        }
      ]
    },
    {
      "cell_type": "markdown",
      "metadata": {
        "id": "PqMTryN0stmd"
      },
      "source": [
        "## Confusion Matrix"
      ]
    },
    {
      "cell_type": "code",
      "metadata": {
        "colab": {
          "base_uri": "https://localhost:8080/"
        },
        "id": "Dfqls_VrtoiW",
        "outputId": "ea6c1d0d-3c73-4021-f3aa-badec3e62b91"
      },
      "source": [
        "cf = confusion_matrix(y_test, y_pred, labels=[0, 1])\n",
        "print(cf)"
      ],
      "execution_count": null,
      "outputs": [
        {
          "output_type": "stream",
          "text": [
            "[[282   2]\n",
            " [  2  54]]\n"
          ],
          "name": "stdout"
        }
      ]
    },
    {
      "cell_type": "code",
      "metadata": {
        "id": "SRoN4qtwBaG0"
      },
      "source": [
        "def plot_confusion_matrix(cm, classes, normalize=False, title='Confusion matrix', cmap=plt.cm.Blues):\n",
        "    \"\"\"\n",
        "    This function prints and plots the confusion matrix.\n",
        "    Normalization can be applied by setting `normalize=True`.\n",
        "    \"\"\"\n",
        "    if normalize:\n",
        "        cm = cm.astype('float') / cm.sum(axis=1)[:, np.newaxis]\n",
        "        print(\"Normalized confusion matrix\")\n",
        "    else:\n",
        "        print('Confusion matrix, without normalization')\n",
        "\n",
        "    print(cm)\n",
        "    plt.imshow(cm, interpolation='nearest', cmap=cmap)\n",
        "    plt.title(title)\n",
        "    plt.colorbar()\n",
        "    tick_marks = np.arange(len(classes))\n",
        "    plt.xticks(tick_marks, classes, rotation=45)\n",
        "    plt.yticks(tick_marks, classes)\n",
        "    fmt = '.2f' if normalize else 'd'\n",
        "    thresh = cm.max() / 2.\n",
        "    for i, j in itertools.product(range(cm.shape[0]), range(cm.shape[1])):\n",
        "        plt.text(j, i, format(cm[i, j], fmt),\n",
        "                 horizontalalignment=\"center\",\n",
        "                 color=\"white\" if cm[i, j] > thresh else \"black\")\n",
        "    plt.ylabel('True label')\n",
        "    plt.xlabel('Predicted label')\n",
        "    plt.tight_layout()"
      ],
      "execution_count": null,
      "outputs": []
    },
    {
      "cell_type": "code",
      "metadata": {
        "colab": {
          "base_uri": "https://localhost:8080/",
          "height": 348
        },
        "id": "PkH4jsAZCGx9",
        "outputId": "fbc63add-8b16-4347-a24e-27cf5cfa4f9b"
      },
      "source": [
        "plot_confusion_matrix(cf, ['Fake', 'Real'])"
      ],
      "execution_count": null,
      "outputs": [
        {
          "output_type": "stream",
          "text": [
            "Confusion matrix, without normalization\n",
            "[[282   2]\n",
            " [  2  54]]\n"
          ],
          "name": "stdout"
        },
        {
          "output_type": "display_data",
          "data": {
            "image/png": "[encoded data removed]",
            "text/plain": [
              "<Figure size 432x288 with 2 Axes>"
            ]
          },
          "metadata": {
            "tags": [],
            "needs_background": "light"
          }
        }
      ]
    },
    {
      "cell_type": "code",
      "metadata": {
        "colab": {
          "base_uri": "https://localhost:8080/",
          "height": 348
        },
        "id": "Ux-VA1rPCkQA",
        "outputId": "546fb881-f71e-425e-9f27-bf74346aad36"
      },
      "source": [
        "plot_confusion_matrix(cf, ['Fake', 'Real'], normalize=True)"
      ],
      "execution_count": null,
      "outputs": [
        {
          "output_type": "stream",
          "text": [
            "Normalized confusion matrix\n",
            "[[0.99295775 0.00704225]\n",
            " [0.03571429 0.96428571]]\n"
          ],
          "name": "stdout"
        },
        {
          "output_type": "display_data",
          "data": {
            "image/png": "[encoded data removed]",
            "text/plain": [
              "<Figure size 432x288 with 2 Axes>"
            ]
          },
          "metadata": {
            "tags": [],
            "needs_background": "light"
          }
        }
      ]
    },
    {
      "cell_type": "markdown",
      "metadata": {
        "id": "T0CmDXr0soJU"
      },
      "source": [
        "## Classification Report"
      ]
    },
    {
      "cell_type": "code",
      "metadata": {
        "colab": {
          "base_uri": "https://localhost:8080/"
        },
        "id": "db3LXmYDqZCU",
        "outputId": "12702b7a-dfca-4393-be57-f5d0f1617433"
      },
      "source": [
        "print(classification_report(y_test, y_pred, labels=[0, 1]))"
      ],
      "execution_count": null,
      "outputs": [
        {
          "output_type": "stream",
          "text": [
            "              precision    recall  f1-score   support\n",
            "\n",
            "           0       0.99      0.99      0.99       284\n",
            "           1       0.96      0.96      0.96        56\n",
            "\n",
            "    accuracy                           0.99       340\n",
            "   macro avg       0.98      0.98      0.98       340\n",
            "weighted avg       0.99      0.99      0.99       340\n",
            "\n"
          ],
          "name": "stdout"
        }
      ]
    },
    {
      "cell_type": "markdown",
      "metadata": {
        "id": "zrEfWG5mq3W2"
      },
      "source": [
        "# Save Model"
      ]
    },
    {
      "cell_type": "markdown",
      "metadata": {
        "id": "cyaRRC_asjSc"
      },
      "source": [
        "## Dump Model"
      ]
    },
    {
      "cell_type": "code",
      "metadata": {
        "id": "4ILpnpwOZGuI"
      },
      "source": [
        "import pickle\n",
        "with open('yslc-jordan-model.pickle', 'wb') as handle:\n",
        "    pickle.dump(classifier, handle, protocol=pickle.HIGHEST_PROTOCOL)"
      ],
      "execution_count": null,
      "outputs": []
    },
    {
      "cell_type": "code",
      "metadata": {
        "id": "Ri2VSzNovAKA"
      },
      "source": [
        "with open('/content/yslc-jordan-model.pickle', 'rb') as handle:\n",
        "\tloaded_model = pickle.load(handle) "
      ],
      "execution_count": null,
      "outputs": []
    },
    {
      "cell_type": "markdown",
      "metadata": {
        "id": "KoSxnHj2nf2r"
      },
      "source": [
        "# Prediction"
      ]
    },
    {
      "cell_type": "code",
      "metadata": {
        "id": "j7yqKpPHxzw0"
      },
      "source": [
        "news = 'กรณี รถฟอร์จูนเนอร์ตกสะพานขาดที่ อ.นบพิตำ ช่วงน้ำท่วมใหญ่ปลายปี 63 ทำให้มีผู้เสียชีวิต 1 ศพ และรอดมาได้ 1 ราย ล่าสุด พบซากรถที่ถูกกระแสน้ำพัดห่างจากจุดเกิดเหตุไป 500 เมตร สภาพแหลกยับทั้งคัน'"
      ],
      "execution_count": null,
      "outputs": []
    },
    {
      "cell_type": "code",
      "metadata": {
        "id": "YM6ZaokvtpxE"
      },
      "source": [
        "prediction = loaded_model.predict([news])"
      ],
      "execution_count": null,
      "outputs": []
    },
    {
      "cell_type": "code",
      "metadata": {
        "colab": {
          "base_uri": "https://localhost:8080/"
        },
        "id": "w9wL28nJzKX5",
        "outputId": "9114071c-f1d0-4821-c4ff-432bfd7ccda6"
      },
      "source": [
        "print(prediction[0])"
      ],
      "execution_count": null,
      "outputs": [
        {
          "output_type": "stream",
          "text": [
            "1\n"
          ],
          "name": "stdout"
        }
      ]
    },
    {
      "cell_type": "markdown",
      "metadata": {
        "id": "XivgorB6sl_Y"
      },
      "source": [
        "# Download Model"
      ]
    },
    {
      "cell_type": "code",
      "metadata": {
        "colab": {
          "base_uri": "https://localhost:8080/",
          "height": 17
        },
        "id": "4jUt0V9dSngk",
        "outputId": "ea18f097-0f39-4433-92cf-0d50b8a37772"
      },
      "source": [
        "from google.colab import files\n",
        "files.download('/content/yslc-jordan-model.pickle')"
      ],
      "execution_count": null,
      "outputs": [
        {
          "output_type": "display_data",
          "data": {
            "application/javascript": [
              "\n",
              "    async function download(id, filename, size) {\n",
              "      if (!google.colab.kernel.accessAllowed) {\n",
              "        return;\n",
              "      }\n",
              "      const div = document.createElement('div');\n",
              "      const label = document.createElement('label');\n",
              "      label.textContent = `Downloading \"${filename}\": `;\n",
              "      div.appendChild(label);\n",
              "      const progress = document.createElement('progress');\n",
              "      progress.max = size;\n",
              "      div.appendChild(progress);\n",
              "      document.body.appendChild(div);\n",
              "\n",
              "      const buffers = [];\n",
              "      let downloaded = 0;\n",
              "\n",
              "      const channel = await google.colab.kernel.comms.open(id);\n",
              "      // Send a message to notify the kernel that we're ready.\n",
              "      channel.send({})\n",
              "\n",
              "      for await (const message of channel.messages) {\n",
              "        // Send a message to notify the kernel that we're ready.\n",
              "        channel.send({})\n",
              "        if (message.buffers) {\n",
              "          for (const buffer of message.buffers) {\n",
              "            buffers.push(buffer);\n",
              "            downloaded += buffer.byteLength;\n",
              "            progress.value = downloaded;\n",
              "          }\n",
              "        }\n",
              "      }\n",
              "      const blob = new Blob(buffers, {type: 'application/binary'});\n",
              "      const a = document.createElement('a');\n",
              "      a.href = window.URL.createObjectURL(blob);\n",
              "      a.download = filename;\n",
              "      div.appendChild(a);\n",
              "      a.click();\n",
              "      div.remove();\n",
              "    }\n",
              "  "
            ],
            "text/plain": [
              "<IPython.core.display.Javascript object>"
            ]
          },
          "metadata": {
            "tags": []
          }
        },
        {
          "output_type": "display_data",
          "data": {
            "application/javascript": [
              "download(\"download_802ca9e6-d86c-4abb-b124-2829cbc1bee9\", \"yslc-jordan-model.pickle\", 3893884)"
            ],
            "text/plain": [
              "<IPython.core.display.Javascript object>"
            ]
          },
          "metadata": {
            "tags": []
          }
        }
      ]
    }
  ]
}